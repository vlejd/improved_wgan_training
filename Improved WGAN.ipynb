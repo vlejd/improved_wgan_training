{
 "cells": [
  {
   "cell_type": "code",
   "execution_count": 191,
   "metadata": {
    "collapsed": false
   },
   "outputs": [],
   "source": [
    "from keras.layers.convolutional import Conv1D, Conv2D\n",
    "from keras.layers.advanced_activations import LeakyReLU\n",
    "from keras.layers.core import Dense, Flatten, Reshape, Activation, Lambda, Permute\n",
    "from keras.layers import Input\n",
    "from keras.layers.merge import add\n",
    "from keras.initializers import RandomNormal\n",
    "from keras import regularizers\n",
    "from keras.layers.normalization import BatchNormalization\n",
    "from keras.models import Sequential, Model\n",
    "from keras.utils import plot_model\n",
    "from IPython.core.display import Image, display\n",
    "import numpy as np"
   ]
  },
  {
   "cell_type": "code",
   "execution_count": 243,
   "metadata": {
    "collapsed": true
   },
   "outputs": [],
   "source": [
    "DIM = 200\n",
    "SEQ_LEN = 32\n",
    "RANDOM_DIM = 128\n",
    "VOCAB_SIZE = 128"
   ]
  },
  {
   "cell_type": "code",
   "execution_count": 244,
   "metadata": {
    "collapsed": false
   },
   "outputs": [],
   "source": [
    "def ResBlock(name):\n",
    "    inputs = Input(shape=(SEQ_LEN, DIM))\n",
    "    block = Sequential(name=name+'_res')\n",
    "    block.add(Activation('relu', input_shape=(SEQ_LEN, DIM)))\n",
    "    block.add(Conv1D(DIM, 5, padding='same', name=name+\"_cov1\", input_shape=(SEQ_LEN, DIM)))\n",
    "    block.add(Activation('relu'))\n",
    "    block.add(Conv1D(DIM, 5, padding='same', name=name+\"_cov2\", input_shape=(SEQ_LEN, DIM)))\n",
    "    merged = Lambda(lambda q: q[0]*0.3 + q[1])([block(inputs), inputs])    \n",
    "    block_model = Model(inputs=inputs, outputs=merged)\n",
    "    return block_model"
   ]
  },
  {
   "cell_type": "code",
   "execution_count": 245,
   "metadata": {
    "collapsed": false
   },
   "outputs": [],
   "source": [
    "def Generator():\n",
    "    generator = Sequential()\n",
    "    generator.add(Dense(SEQ_LEN*DIM, input_shape=(RANDOM_DIM,)))\n",
    "    generator.add(Reshape((SEQ_LEN, DIM)))\n",
    "    for i in range(5):\n",
    "        generator.add(ResBlock('Generator.{0:d}'.format(i)))\n",
    "    generator.add(Conv1D(VOCAB_SIZE, 5, padding='same'))\n",
    "    generator.add(Activation('softmax'))\n",
    "    return generator"
   ]
  },
  {
   "cell_type": "code",
   "execution_count": 262,
   "metadata": {
    "collapsed": false
   },
   "outputs": [],
   "source": [
    "def Discriminator():\n",
    "    discriminator = Sequential()\n",
    "    discriminator.add(Conv1D(DIM, 5, padding='same', input_shape=(SEQ_LEN, VOCAB_SIZE)))\n",
    "    for i in range(5):\n",
    "        discriminator.add(ResBlock('Generator.{0:d}'.format(i)))\n",
    "    discriminator.add(Reshape((SEQ_LEN*DIM,)))   \n",
    "    discriminator.add(Dense(1, activation='softmax'))\n",
    "    return discriminator"
   ]
  },
  {
   "cell_type": "code",
   "execution_count": 259,
   "metadata": {
    "collapsed": true
   },
   "outputs": [
    {
     "name": "stdout",
     "output_type": "stream",
     "text": [
      "(None, 32, 128)\n",
      "_________________________________________________________________\n",
      "Layer (type)                 Output Shape              Param #   \n",
      "=================================================================\n",
      "dense_28 (Dense)             (None, 6400)              825600    \n",
      "_________________________________________________________________\n",
      "reshape_24 (Reshape)         (None, 32, 200)           0         \n",
      "_________________________________________________________________\n",
      "model_156 (Model)            (None, 32, 200)           400400    \n",
      "_________________________________________________________________\n",
      "model_157 (Model)            (None, 32, 200)           400400    \n",
      "_________________________________________________________________\n",
      "model_158 (Model)            (None, 32, 200)           400400    \n",
      "_________________________________________________________________\n",
      "model_159 (Model)            (None, 32, 200)           400400    \n",
      "_________________________________________________________________\n",
      "model_160 (Model)            (None, 32, 200)           400400    \n",
      "_________________________________________________________________\n",
      "conv1d_30 (Conv1D)           (None, 32, 128)           128128    \n",
      "_________________________________________________________________\n",
      "activation_333 (Activation)  (None, 32, 128)           0         \n",
      "=================================================================\n",
      "Total params: 2,955,728\n",
      "Trainable params: 2,955,728\n",
      "Non-trainable params: 0\n",
      "_________________________________________________________________\n"
     ]
    }
   ],
   "source": [
    "g = Generator()\n",
    "print(g.output_shape)\n",
    "g.summary()"
   ]
  },
  {
   "cell_type": "code",
   "execution_count": 263,
   "metadata": {
    "collapsed": false
   },
   "outputs": [
    {
     "name": "stdout",
     "output_type": "stream",
     "text": [
      "(None, 1)\n",
      "_________________________________________________________________\n",
      "Layer (type)                 Output Shape              Param #   \n",
      "=================================================================\n",
      "conv1d_32 (Conv1D)           (None, 32, 200)           128200    \n",
      "_________________________________________________________________\n",
      "model_166 (Model)            (None, 32, 200)           400400    \n",
      "_________________________________________________________________\n",
      "model_167 (Model)            (None, 32, 200)           400400    \n",
      "_________________________________________________________________\n",
      "model_168 (Model)            (None, 32, 200)           400400    \n",
      "_________________________________________________________________\n",
      "model_169 (Model)            (None, 32, 200)           400400    \n",
      "_________________________________________________________________\n",
      "model_170 (Model)            (None, 32, 200)           400400    \n",
      "_________________________________________________________________\n",
      "reshape_25 (Reshape)         (None, 6400)              0         \n",
      "_________________________________________________________________\n",
      "dense_30 (Dense)             (None, 1)                 6401      \n",
      "=================================================================\n",
      "Total params: 2,136,601\n",
      "Trainable params: 2,136,601\n",
      "Non-trainable params: 0\n",
      "_________________________________________________________________\n"
     ]
    }
   ],
   "source": [
    "d = Discriminator()\n",
    "print(d.output_shape)\n",
    "d.summary()"
   ]
  },
  {
   "cell_type": "code",
   "execution_count": null,
   "metadata": {
    "collapsed": false
   },
   "outputs": [],
   "source": []
  },
  {
   "cell_type": "code",
   "execution_count": 167,
   "metadata": {
    "collapsed": false
   },
   "outputs": [],
   "source": [
    "t = ResBlock('test', 100)"
   ]
  },
  {
   "cell_type": "code",
   "execution_count": 168,
   "metadata": {
    "collapsed": false
   },
   "outputs": [
    {
     "name": "stdout",
     "output_type": "stream",
     "text": [
      "____________________________________________________________________________________________________\n",
      "Layer (type)                     Output Shape          Param #     Connected to                     \n",
      "====================================================================================================\n",
      "input_46 (InputLayer)            (None, 10, 20)        0                                            \n",
      "____________________________________________________________________________________________________\n",
      "test_res (Sequential)            (None, 10, 20)        4040        input_46[0][0]                   \n",
      "____________________________________________________________________________________________________\n",
      "lambda_8 (Lambda)                (None, 10, 20)        0           test_res[1][0]                   \n",
      "                                                                   input_46[0][0]                   \n",
      "====================================================================================================\n",
      "Total params: 4,040\n",
      "Trainable params: 4,040\n",
      "Non-trainable params: 0\n",
      "____________________________________________________________________________________________________\n"
     ]
    }
   ],
   "source": [
    "t.summary()"
   ]
  },
  {
   "cell_type": "code",
   "execution_count": 169,
   "metadata": {
    "collapsed": false
   },
   "outputs": [],
   "source": [
    "pred = t.predict(np.ones((100, SEQ_LEN, DIM)))"
   ]
  },
  {
   "cell_type": "code",
   "execution_count": 114,
   "metadata": {
    "collapsed": false
   },
   "outputs": [
    {
     "data": {
      "text/plain": [
       "array([[ 0.29562837,  0.01579072,  0.31917942,  0.13410902,  0.23180808,\n",
       "         0.07615251,  0.29214591, -0.16874602, -0.34903234, -0.05233342,\n",
       "        -0.24116269,  0.14034885, -0.04277074,  0.47394556, -0.14474888,\n",
       "        -0.04749283,  0.13330026, -0.19548459, -0.02450358,  0.14970438],\n",
       "       [ 0.28161544,  0.26857752,  0.27629855,  0.04484605,  0.25496271,\n",
       "         0.0211953 ,  0.3600153 , -0.06856856, -0.07233518,  0.10362522,\n",
       "        -0.22533819,  0.24838901,  0.01642642,  0.60802692, -0.07529299,\n",
       "         0.06503887,  0.16622944, -0.25470734, -0.0198482 ,  0.12563322],\n",
       "       [ 0.18010779,  0.41392341,  0.32418075,  0.15345094,  0.22445905,\n",
       "        -0.11105887,  0.2296837 ,  0.01175779, -0.24815305,  0.03963525,\n",
       "        -0.393152  ,  0.45300877, -0.09292503,  0.79209477, -0.02068807,\n",
       "         0.0316645 ,  0.14314048, -0.3667255 ,  0.03254921,  0.11423583],\n",
       "       [ 0.18010779,  0.41392341,  0.32418075,  0.15345094,  0.22445905,\n",
       "        -0.11105887,  0.2296837 ,  0.01175779, -0.24815305,  0.03963525,\n",
       "        -0.393152  ,  0.45300877, -0.09292503,  0.79209477, -0.02068807,\n",
       "         0.0316645 ,  0.14314048, -0.3667255 ,  0.03254921,  0.11423583],\n",
       "       [ 0.18010779,  0.41392341,  0.32418075,  0.15345094,  0.22445905,\n",
       "        -0.11105887,  0.2296837 ,  0.01175779, -0.24815305,  0.03963525,\n",
       "        -0.393152  ,  0.45300877, -0.09292503,  0.79209477, -0.02068807,\n",
       "         0.0316645 ,  0.14314048, -0.3667255 ,  0.03254921,  0.11423583],\n",
       "       [ 0.18010779,  0.41392341,  0.32418075,  0.15345094,  0.22445905,\n",
       "        -0.11105887,  0.2296837 ,  0.01175779, -0.24815305,  0.03963525,\n",
       "        -0.393152  ,  0.45300877, -0.09292503,  0.79209477, -0.02068807,\n",
       "         0.0316645 ,  0.14314048, -0.3667255 ,  0.03254921,  0.11423583],\n",
       "       [ 0.18010779,  0.41392341,  0.32418075,  0.15345094,  0.22445905,\n",
       "        -0.11105887,  0.2296837 ,  0.01175779, -0.24815305,  0.03963525,\n",
       "        -0.393152  ,  0.45300877, -0.09292503,  0.79209477, -0.02068807,\n",
       "         0.0316645 ,  0.14314048, -0.3667255 ,  0.03254921,  0.11423583],\n",
       "       [ 0.18010779,  0.41392341,  0.32418075,  0.15345094,  0.22445905,\n",
       "        -0.11105887,  0.2296837 ,  0.01175779, -0.24815305,  0.03963525,\n",
       "        -0.393152  ,  0.45300877, -0.09292503,  0.79209477, -0.02068807,\n",
       "         0.0316645 ,  0.14314048, -0.3667255 ,  0.03254921,  0.11423583],\n",
       "       [ 0.08118939,  0.43447852, -0.0322531 ,  0.10378523,  0.20642506,\n",
       "        -0.07186822,  0.15414146,  0.06498289, -0.13223206,  0.03261758,\n",
       "        -0.32523176,  0.541197  , -0.03413596,  0.66951847, -0.03122189,\n",
       "         0.14424424,  0.12741923, -0.28159118, -0.03107438,  0.0517107 ],\n",
       "       [ 0.04540212,  0.36418837, -0.09879036,  0.11668601,  0.10352966,\n",
       "        -0.13923419, -0.01400106,  0.05501441, -0.02066411,  0.20641415,\n",
       "        -0.30219215,  0.33377597, -0.07339391,  0.52770334,  0.11580703,\n",
       "         0.12670831, -0.08982358, -0.23904054,  0.11461823, -0.10998578]], dtype=float32)"
      ]
     },
     "execution_count": 114,
     "metadata": {},
     "output_type": "execute_result"
    }
   ],
   "source": [
    "pred[0]"
   ]
  },
  {
   "cell_type": "code",
   "execution_count": 49,
   "metadata": {
    "collapsed": false
   },
   "outputs": [],
   "source": [
    "plot_model(t, to_file='model.png')"
   ]
  },
  {
   "cell_type": "code",
   "execution_count": 53,
   "metadata": {
    "collapsed": false
   },
   "outputs": [
    {
     "data": {
      "image/png": "[encoded data removed]",
      "text/plain": [
       "<IPython.core.display.Image object>"
      ]
     },
     "metadata": {
      "image/png": {
       "unconfined": true,
       "width": 100
      }
     },
     "output_type": "display_data"
    }
   ],
   "source": [
    "display(Image('model.png', width=100, unconfined=True))"
   ]
  },
  {
   "cell_type": "code",
   "execution_count": null,
   "metadata": {
    "collapsed": true
   },
   "outputs": [],
   "source": []
  },
  {
   "cell_type": "code",
   "execution_count": null,
   "metadata": {
    "collapsed": true
   },
   "outputs": [],
   "source": [
    "class Discriminator(object):\n",
    "    def __init__(self):\n",
    "        self.x_dim = 784\n",
    "        self.name = 'mnist/dcgan/discriminator'\n",
    "        self.initializer = RandomNormal(mean=0.0, stddev=0.02, seed=None)\n",
    "        self.regularizer = regularizers.l2(2.5e-5)\n",
    "\n",
    "    def __call__(self):\n",
    "        model = Sequential()\n",
    "        model.add(Reshape((28, 28, 1), input_shape=(784,)))\n",
    "        # Convolution Layer 1\n",
    "        model.add(Conv2D(64, kernel_size=(4, 4), strides=(2, 2), \\\n",
    "            kernel_initializer=self.initializer))\n",
    "        model.add(LeakyReLU())\n",
    "\n",
    "        # Convolution Layer 2\n",
    "        model.add(Conv2D(128, kernel_size=(4, 4), strides=(2, 2), \\\n",
    "            kernel_initializer=self.initializer))\n",
    "        model.add(LeakyReLU())\n",
    "\n",
    "        # Batch Normalization\n",
    "        model.add(BatchNormalization())\n",
    "\n",
    "        # Flatten the input\n",
    "        model.add(Flatten())\n",
    "\n",
    "        # Dense Layer\n",
    "        model.add(Dense(1024, kernel_initializer=self.initializer))\n",
    "        model.add(LeakyReLU())\n",
    "\n",
    "        # Batch Normalization\n",
    "        model.add(BatchNormalization())\n",
    "\n",
    "        # To the output that has two classes\n",
    "        model.add(Dense(2, activation='softmax'))\n",
    "\n",
    "return model"
   ]
  },
  {
   "cell_type": "code",
   "execution_count": null,
   "metadata": {
    "collapsed": true
   },
   "outputs": [],
   "source": []
  }
 ],
 "metadata": {
  "kernelspec": {
   "display_name": "Python 3",
   "language": "python",
   "name": "python3"
  },
  "language_info": {
   "codemirror_mode": {
    "name": "ipython",
    "version": 3
   },
   "file_extension": ".py",
   "mimetype": "text/x-python",
   "name": "python",
   "nbconvert_exporter": "python",
   "pygments_lexer": "ipython3",
   "version": "3.5.2"
  }
 },
 "nbformat": 4,
 "nbformat_minor": 2
}
